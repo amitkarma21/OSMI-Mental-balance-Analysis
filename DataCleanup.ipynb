{
 "cells": [
  {
   "cell_type": "markdown",
   "metadata": {},
   "source": [
    "# OSMI Mental Health survey Data cleaup"
   ]
  },
  {
   "cell_type": "markdown",
   "metadata": {},
   "source": [
    "### All warnings are supressed to produce more concise output."
   ]
  },
  {
   "cell_type": "code",
   "execution_count": 1,
   "metadata": {},
   "outputs": [],
   "source": [
    "import sys\n",
    "import warnings\n",
    "\n",
    "if not sys.warnoptions:\n",
    "    warnings.simplefilter(\"ignore\")"
   ]
  },
  {
   "cell_type": "markdown",
   "metadata": {},
   "source": [
    "### Importing the datasets. The datasets are from years 2014, 2016, 2017, 2018 and  2019."
   ]
  },
  {
   "cell_type": "code",
   "execution_count": 2,
   "metadata": {},
   "outputs": [
    {
     "name": "stdout",
     "output_type": "stream",
     "text": [
      "(4218, 211)\n"
     ]
    }
   ],
   "source": [
    "import pandas as pd  # data processing, CSV file I/O\n",
    "\n",
    "survey2014 = pd.read_csv('datasets/OSMIsurvey2014.csv').assign(Year=2014)\n",
    "survey2016 = pd.read_csv('datasets/OSMIsurvey2016.csv').assign(Year=2016)\n",
    "survey2017 = pd.read_csv('datasets/OSMIsurvey2017.csv').assign(Year=2017)\n",
    "survey2018 = pd.read_csv('datasets/OSMIsurvey2018.csv').assign(Year=2018)\n",
    "survey2019 = pd.read_csv('datasets/OSMIsurvey2019.csv').assign(Year=2019)\n",
    "\n",
    "survey141619 =  pd.concat([survey2014, survey2016, survey2019], ignore_index=True, sort=True)\n",
    "survey1718 = pd.concat([survey2017, survey2018], ignore_index=True, sort=True)\n",
    "\n",
    "survey = pd.concat([survey141619, survey1718], ignore_index=True, sort=True)\n",
    "print(survey.shape)"
   ]
  },
  {
   "cell_type": "markdown",
   "metadata": {},
   "source": [
    "#### All the surveys have been collected and placed in a list of datasets. Now, to clean the dataset, a function is defined which takes the dataset and removes some common impurities. These impurities are \n",
    "##### 1. HTML elements\n",
    "##### 2. Un-needed columns\n",
    "##### 3. Reset index"
   ]
  },
  {
   "cell_type": "code",
   "execution_count": 3,
   "metadata": {},
   "outputs": [
    {
     "name": "stdout",
     "output_type": "stream",
     "text": [
      "(4218, 206)\n"
     ]
    }
   ],
   "source": [
    "import re \n",
    "\n",
    "def cleanColumns(dataframe):\n",
    "    dataframe.columns = map(str.lower, dataframe.columns)\n",
    "\n",
    "    # Remove HTML artifacts\n",
    "    dataframe.rename(columns=lambda colname: re.sub('</\\w+>', '', colname), inplace=True)\n",
    "    dataframe.rename(columns=lambda colname: re.sub('<\\w+>', '', colname), inplace=True)\n",
    "    dataframe.rename(columns = {'how many employees does your company or organization have?':'Company Size', \n",
    "                                'do you have a family history of mental illness?' : 'Family History of Mental Illness'}, inplace = True) \n",
    " \n",
    "    dataframe.drop(columns=['#', 'start date (utc)', 'submit date (utc)', 'network id', 'timestamp'], inplace=True)\n",
    "    dataframe.reset_index(drop=True)\n",
    "\n",
    "    return dataframe\n",
    "\n",
    "survey = cleanColumns(survey)\n",
    "print(survey.shape)"
   ]
  }
 ],
 "metadata": {
  "kernelspec": {
   "display_name": "Python 3 (ipykernel)",
   "language": "python",
   "name": "python3"
  },
  "language_info": {
   "codemirror_mode": {
    "name": "ipython",
    "version": 3
   },
   "file_extension": ".py",
   "mimetype": "text/x-python",
   "name": "python",
   "nbconvert_exporter": "python",
   "pygments_lexer": "ipython3",
   "version": "3.7.2"
  }
 },
 "nbformat": 4,
 "nbformat_minor": 4
}
